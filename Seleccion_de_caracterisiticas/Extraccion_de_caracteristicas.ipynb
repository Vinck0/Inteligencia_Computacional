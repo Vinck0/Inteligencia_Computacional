{
  "nbformat": 4,
  "nbformat_minor": 0,
  "metadata": {
    "colab": {
      "name": "Tarea 3 EL4106.ipynb",
      "provenance": [],
      "collapsed_sections": []
    },
    "kernelspec": {
      "name": "python3",
      "display_name": "Python 3"
    },
    "language_info": {
      "name": "python"
    }
  },
  "cells": [
    {
      "cell_type": "markdown",
      "metadata": {
        "id": "TwKoEJXjeKjk"
      },
      "source": [
        "#Tarea 3"
      ]
    },
    {
      "cell_type": "markdown",
      "metadata": {
        "id": "rGXgZlz4duZN"
      },
      "source": [
        "Para utilizar este código basta con apretar 'Entorno de ejecución' -> Ejecutar todas y en la primera celda de código subir el archivo magic04.data"
      ]
    },
    {
      "cell_type": "code",
      "metadata": {
        "colab": {
          "resources": {
            "http://localhost:8080/nbextensions/google.colab/files.js": {
              "data": "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",
              "ok": true,
              "headers": [
                [
                  "content-type",
                  "application/javascript"
                ]
              ],
              "status": 200,
              "status_text": ""
            }
          },
          "base_uri": "https://localhost:8080/",
          "height": 73
        },
        "id": "HEeHFCSmLP7h",
        "outputId": "67de874c-8c95-497a-c188-ddd875585e4e"
      },
      "source": [
        "#subir archivo diabetes.arff\n",
        "from google.colab import files\n",
        "uploaded= files.upload()"
      ],
      "execution_count": 22,
      "outputs": [
        {
          "output_type": "display_data",
          "data": {
            "text/html": [
              "\n",
              "     <input type=\"file\" id=\"files-4c6e1be4-9ee3-4fec-bcf4-b012f404aab9\" name=\"files[]\" multiple disabled\n",
              "        style=\"border:none\" />\n",
              "     <output id=\"result-4c6e1be4-9ee3-4fec-bcf4-b012f404aab9\">\n",
              "      Upload widget is only available when the cell has been executed in the\n",
              "      current browser session. Please rerun this cell to enable.\n",
              "      </output>\n",
              "      <script src=\"/nbextensions/google.colab/files.js\"></script> "
            ],
            "text/plain": [
              "<IPython.core.display.HTML object>"
            ]
          },
          "metadata": {
            "tags": []
          }
        },
        {
          "output_type": "stream",
          "text": [
            "Saving diabetes.arff to diabetes (1).arff\n"
          ],
          "name": "stdout"
        }
      ]
    },
    {
      "cell_type": "code",
      "metadata": {
        "id": "q1PyU1S5Lhcc"
      },
      "source": [
        "#Bibliotecas\n",
        "from scipy.io import arff#\n",
        "%matplotlib inline\n",
        "import pandas as pd#\n",
        "import numpy as np#\n",
        "import seaborn as sns#\n",
        "import time#\n",
        "import sklearn#"
      ],
      "execution_count": 23,
      "outputs": []
    },
    {
      "cell_type": "code",
      "metadata": {
        "id": "LTfPQPGLOZjq"
      },
      "source": [
        "#p1 b\n",
        "from sklearn.model_selection import train_test_split\n",
        "\n",
        "data = arff.loadarff('diabetes.arff')\n",
        "df= pd.DataFrame(data[0])\n",
        "df['class'].replace(b'tested_positive',0, inplace = True) #df[‘class’].str.decode(‘utf-8’)\n",
        "df['class'].replace(b'tested_negative',1, inplace = True) \n",
        "\n",
        "entrenamiento= train_test_split(df,test_size=0.60, random_state=7)[1].reset_index(drop = True)\n",
        "validacion= train_test_split(df,test_size=0.2, random_state=7)[1].reset_index(drop = True)\n",
        "test= train_test_split(df,test_size=0.2, random_state=7)[1].reset_index(drop = True)"
      ],
      "execution_count": 24,
      "outputs": []
    },
    {
      "cell_type": "code",
      "metadata": {
        "id": "qOZlxAX_SQPw"
      },
      "source": [
        "#Parte c\n",
        "from sklearn import preprocessing\n",
        "scaler= preprocessing.StandardScaler()\n",
        "#scaler_entrenado=scaler.fit(entrenamiento.iloc[:,:8]) #Entrenamiento de standardscaler\n",
        "\n",
        "#Aplicación de standardscaler a conjuntos\n",
        "scaled_entrenamiento= scaler.fit_transform(entrenamiento.iloc[:,:8])\n",
        "scaled_validacion= scaler.fit_transform(validacion.iloc[:,:8]) \n",
        "scaled_test= scaler.fit_transform(test.iloc[:,:8]) "
      ],
      "execution_count": 25,
      "outputs": []
    },
    {
      "cell_type": "code",
      "metadata": {
        "colab": {
          "base_uri": "https://localhost:8080/"
        },
        "id": "8bhq8_vEIPnx",
        "outputId": "d5343d0e-18bd-43b1-a1d0-de88b330f1f5"
      },
      "source": [
        "#Parte d\n",
        "from sklearn import svm\n",
        "from sklearn.model_selection import GridSearchCV\n",
        "from sklearn.model_selection import PredefinedSplit\n",
        "\n",
        "test_fold = [-1 for _ in range(len(validacion))] + [0 for _ in range(len(entrenamiento))]\n",
        "y = np.concatenate([scaled_validacion, scaled_entrenamiento])\n",
        "ps = PredefinedSplit(test_fold)\n",
        "\n",
        "parametros= {'C':[0.0001, 0.001, 0.1]}\n",
        "svmlineal = svm.SVC(kernel= 'linear', probability=False)\n",
        "clfl = GridSearchCV(svmlineal, parametros, cv=ps)\n",
        "\n",
        "scaled_concat = np.concatenate((scaled_entrenamiento,scaled_validacion))\n",
        "conjuntos_concat= pd.concat([entrenamiento,validacion])\n",
        "conjuntos_concat= conjuntos_concat.reset_index(drop= True)\n",
        "\n",
        "tiempo_svmlineal_inicio = time.time()\n",
        "clfl.fit( scaled_concat , conjuntos_concat.iloc[:,8])#entrenamiento\n",
        "\n",
        "tiempo_svmlineal_final = time.time()\n",
        "\n",
        "print(clfl.best_params_)\n",
        "y_pred_svml=clfl.predict(scaled_concat)\n",
        "print(f\"Tiempo de entrenamiento: {tiempo_svmlineal_final - tiempo_svmlineal_inicio} [s]\")"
      ],
      "execution_count": 26,
      "outputs": [
        {
          "output_type": "stream",
          "text": [
            "{'C': 0.1}\n",
            "Tiempo de entrenamiento: 0.01575469970703125 [s]\n"
          ],
          "name": "stdout"
        }
      ]
    },
    {
      "cell_type": "code",
      "metadata": {
        "colab": {
          "base_uri": "https://localhost:8080/",
          "height": 299
        },
        "id": "Zeg39FPtrp8y",
        "outputId": "6b067264-1f0d-4788-9601-023292489fa8"
      },
      "source": [
        "#Parte e\n",
        "matriz_confusion_svml = sklearn.metrics.confusion_matrix(conjuntos_concat.iloc[:,8], y_pred_svml, normalize='true')\n",
        "print(f'accuracy = {(matriz_confusion_svml[0][0]+matriz_confusion_svml[1][1])/2}')\n",
        "\n",
        "plt.figure()\n",
        "sns.heatmap(matriz_confusion_svml, annot= True)\n",
        "plt.title('Matriz de confusión SVM(lineal) preliminar')\n",
        "plt.show()"
      ],
      "execution_count": 42,
      "outputs": [
        {
          "output_type": "stream",
          "text": [
            "accuracy = 0.7428488372093023\n"
          ],
          "name": "stdout"
        },
        {
          "output_type": "display_data",
          "data": {
            "image/png": "[encoded data removed]",
            "text/plain": [
              "<Figure size 432x288 with 2 Axes>"
            ]
          },
          "metadata": {
            "tags": [],
            "needs_background": "light"
          }
        }
      ]
    },
    {
      "cell_type": "code",
      "metadata": {
        "colab": {
          "base_uri": "https://localhost:8080/"
        },
        "id": "F0ov-ZLwFs-R",
        "outputId": "5d0b11fd-4a30-417c-8bb8-e600108cf4b2"
      },
      "source": [
        "#Parte f \n",
        "from sklearn.feature_selection import SelectFromModel\n",
        "\n",
        "seleccion = SelectFromModel(estimator=svm.SVC(kernel= 'linear',C=0.1, probability=False)).fit(scaled_entrenamiento, entrenamiento.iloc[:,8])\n",
        "\n",
        "\n",
        "caract= ['preg','plas','pres','skin','insu','mass','pedi','age']\n",
        "seleccion.get_support()\n",
        "L=[]\n",
        "val = []\n",
        "for i in range(len(caract)):\n",
        "    if seleccion.get_support()[i] == True:\n",
        "        L.append(caract[i])\n",
        "        val.append(seleccion.estimator_.coef_[0][i])\n",
        "        print(i)\n",
        "    else: None \n",
        "print(f\"Las mejores características son: {L}\")"
      ],
      "execution_count": 28,
      "outputs": [
        {
          "output_type": "stream",
          "text": [
            "1\n",
            "5\n",
            "Las mejores características son: ['plas', 'mass']\n"
          ],
          "name": "stdout"
        }
      ]
    },
    {
      "cell_type": "code",
      "metadata": {
        "colab": {
          "base_uri": "https://localhost:8080/"
        },
        "id": "ntex0bSuyU0J",
        "outputId": "267ce8c6-e579-4e53-af12-6802a76afd3e"
      },
      "source": [
        "#Parte g\n",
        "car1= scaled_entrenamiento[:,1]\n",
        "car2= scaled_entrenamiento[:,5]\n",
        "cars= np.array([car1,car2])\n",
        "tiempo_svmlineal2_inicio = time.time()\n",
        "svml2 = svm.SVC(kernel= 'linear',C=0.1, probability=False).fit(cars.transpose(), entrenamiento.iloc[:,8])\n",
        "tiempo_svmlineal2_final = time.time()\n",
        "print(f\"El tiempo de entrenamiento es {tiempo_svmlineal2_final - tiempo_svmlineal2_inicio} [s]\")"
      ],
      "execution_count": 50,
      "outputs": [
        {
          "output_type": "stream",
          "text": [
            "El tiempo de entrenamiento es 0.005527496337890625 [s]\n"
          ],
          "name": "stdout"
        }
      ]
    },
    {
      "cell_type": "code",
      "metadata": {
        "colab": {
          "base_uri": "https://localhost:8080/",
          "height": 299
        },
        "id": "YqdULiWM-hmA",
        "outputId": "b7b185ef-2327-4331-a736-c5ba26599885"
      },
      "source": [
        "#Parte h\n",
        "carv1= scaled_validacion[:,1]\n",
        "carv2= scaled_validacion[:,5]\n",
        "carsv= np.array([carv1,carv2])\n",
        "y_pred_svml2 = svml2.predict(carsv.transpose()) #se concatenan las filas traspuestas para que sean columnas\n",
        "matriz_confusion_svml2 = sklearn.metrics.confusion_matrix(validacion.iloc[:,8], y_pred_svml2, normalize='true')\n",
        "print(f'accuracy = {(matriz_confusion_svml2[0][0]+matriz_confusion_svml2[1][1])/2}')\n",
        "\n",
        "plt.figure()\n",
        "sns.heatmap(matriz_confusion_svml2, annot= True)\n",
        "plt.title('Matriz de confusión SVM(lineal) selección de características')\n",
        "plt.show()"
      ],
      "execution_count": 51,
      "outputs": [
        {
          "output_type": "stream",
          "text": [
            "accuracy = 0.7043769216856575\n"
          ],
          "name": "stdout"
        },
        {
          "output_type": "display_data",
          "data": {
            "image/png": "[encoded data removed]",
            "text/plain": [
              "<Figure size 432x288 with 2 Axes>"
            ]
          },
          "metadata": {
            "tags": [],
            "needs_background": "light"
          }
        }
      ]
    },
    {
      "cell_type": "code",
      "metadata": {
        "colab": {
          "base_uri": "https://localhost:8080/",
          "height": 333
        },
        "id": "G81Oea0dUIcY",
        "outputId": "86893ba2-2081-4cd2-81bd-110914563703"
      },
      "source": [
        "#Parte i\n",
        "from sklearn.feature_selection import SelectKBest\n",
        "seleccion2 = SelectKBest(k=4).fit_transform(scaled_entrenamiento, entrenamiento.iloc[:,8])\n",
        "caract= ['preg','plas','pres','skin','insu','mass','pedi','age']\n",
        "L=[]\n",
        "for i in range(len(caract)): ##No pude obtnerlo mediante get_param asi que se improviso con una revision por fuerza bruta\n",
        "    if scaled_entrenamiento[0][i] in seleccion2[0] :\n",
        "        L.append(caract[i])\n",
        "    else: None \n",
        "print(f\"Las mejores 4 características son: {L}\")\n",
        "###############################################\n",
        "#g\n",
        "car1i= scaled_entrenamiento[:,0]\n",
        "car2i= scaled_entrenamiento[:,1]\n",
        "car3i= scaled_entrenamiento[:,5]\n",
        "car4i= scaled_entrenamiento[:,7]\n",
        "carsi= np.array([car1i,car2i,car3i,car4i])\n",
        "tiempo_svmlineali_inicio = time.time()\n",
        "svmli = svm.SVC(kernel= 'linear',C=0.1, probability=False).fit(carsi.transpose(), entrenamiento.iloc[:,8])\n",
        "tiempo_svmlineali_final = time.time()\n",
        "print(f\"El tiempo de entrenamiento es {tiempo_svmlineali_final - tiempo_svmlineali_inicio} [s]\")\n",
        "######################################\n",
        "#h\n",
        "carv1i= scaled_validacion[:,0]\n",
        "carv2i= scaled_validacion[:,1]\n",
        "carv3i= scaled_validacion[:,5]\n",
        "carv4i= scaled_validacion[:,7]\n",
        "carsvi= np.array([carv1i,carv2i,carv3i,carv4i])\n",
        "y_pred_svmli = svmli.predict(carsvi.transpose()) #se concatenan las filas traspuestas para que sean columnas\n",
        "matriz_confusion_svmli = sklearn.metrics.confusion_matrix(validacion.iloc[:,8], y_pred_svmli, normalize='true')\n",
        "print(f'accuracy = {(matriz_confusion_svmli[0][0]+matriz_confusion_svmli[1][1])/2}')\n",
        "\n",
        "plt.figure()\n",
        "sns.heatmap(matriz_confusion_svmli,annot=True)\n",
        "plt.title('Matriz de confusión SVM(lineal) selección de características por filtro')\n",
        "plt.show()"
      ],
      "execution_count": 44,
      "outputs": [
        {
          "output_type": "stream",
          "text": [
            "Las mejores 4 características son: ['preg', 'plas', 'mass', 'age']\n",
            "El tiempo de entrenamiento es 0.007052421569824219 [s]\n",
            "accuracy = 0.7430819316332067\n"
          ],
          "name": "stdout"
        },
        {
          "output_type": "display_data",
          "data": {
            "image/png": "[encoded data removed]",
            "text/plain": [
              "<Figure size 432x288 with 2 Axes>"
            ]
          },
          "metadata": {
            "tags": [],
            "needs_background": "light"
          }
        }
      ]
    },
    {
      "cell_type": "code",
      "metadata": {
        "colab": {
          "base_uri": "https://localhost:8080/",
          "height": 333
        },
        "id": "LROPMKa0pNdd",
        "outputId": "cb510e3e-0ab4-4277-863a-d4c1bf63e5df"
      },
      "source": [
        "#Parte j\n",
        "from sklearn.feature_selection import SelectKBest\n",
        "seleccionj = SelectKBest(k=2).fit_transform(scaled_entrenamiento, entrenamiento.iloc[:,8])\n",
        "caract= ['preg','plas','pres','skin','insu','mass','pedi','age']\n",
        "L=[]\n",
        "for i in range(len(caract)): ##No pude obtnerlo mediante get_param asi que se improviso con una revision por fuerza bruta\n",
        "    if scaled_entrenamiento[0][i] in seleccionj[0] :\n",
        "        L.append(caract[i])\n",
        "    else: None \n",
        "print(f\"Las mejores 2 características son: {L}\")\n",
        "\n",
        "\n",
        "###############################################\n",
        "#g\n",
        "car1j= scaled_entrenamiento[:,1]\n",
        "car2j= scaled_entrenamiento[:,5]\n",
        "carsj= np.array([car1j,car2j])\n",
        "tiempo_svmlinealj_inicio = time.time()\n",
        "svmlj = svm.SVC(kernel= 'linear',C=0.1, probability=False).fit(carsj.transpose(), entrenamiento.iloc[:,8])\n",
        "tiempo_svmlinealj_final = time.time()\n",
        "print(f\"El tiempo de entrenamiento es {tiempo_svmlinealj_final - tiempo_svmlinealj_inicio} [s]\")\n",
        "######################################\n",
        "#h\n",
        "carv1j= scaled_validacion[:,1]\n",
        "carv2j= scaled_validacion[:,5]\n",
        "carsvj= np.array([carv1j,carv2j])\n",
        "y_pred_svmlj = svmlj.predict(carsvj.transpose()) #se concatenan las filas traspuestas para que sean columnas\n",
        "matriz_confusion_svmlj = sklearn.metrics.confusion_matrix(validacion.iloc[:,8], y_pred_svmlj, normalize='true')\n",
        "print(f'accuracy = {(matriz_confusion_svmlj[0][0]+matriz_confusion_svmlj[1][1])/2}')\n",
        "\n",
        "plt.figure()\n",
        "sns.heatmap(matriz_confusion_svmlj, annot= True)\n",
        "plt.title('Matriz de confusión SVM(lineal) selección de 2 características por filtro')\n",
        "plt.show()"
      ],
      "execution_count": 45,
      "outputs": [
        {
          "output_type": "stream",
          "text": [
            "Las mejores 2 características son: ['plas', 'mass']\n",
            "El tiempo de entrenamiento es 0.005134105682373047 [s]\n",
            "accuracy = 0.7043769216856575\n"
          ],
          "name": "stdout"
        },
        {
          "output_type": "display_data",
          "data": {
            "image/png": "[encoded data removed]",
            "text/plain": [
              "<Figure size 432x288 with 2 Axes>"
            ]
          },
          "metadata": {
            "tags": [],
            "needs_background": "light"
          }
        }
      ]
    },
    {
      "cell_type": "code",
      "metadata": {
        "colab": {
          "base_uri": "https://localhost:8080/",
          "height": 333
        },
        "id": "ZydX7kWutq1w",
        "outputId": "1c099544-6806-464a-bbc4-e128dfac5e80"
      },
      "source": [
        "#Parte k\n",
        "from sklearn.ensemble import RandomForestClassifier\n",
        "from sklearn.model_selection import GridSearchCV\n",
        "from sklearn.model_selection import PredefinedSplit\n",
        "#######################\n",
        "#Parte d\n",
        "test_fold = [-1 for _ in range(len(validacion))] + [0 for _ in range(len(entrenamiento))]\n",
        "y = np.concatenate([scaled_validacion, scaled_entrenamiento])\n",
        "ps = PredefinedSplit(test_fold)\n",
        "\n",
        "parametros= {'n_estimators' : [50, 100, 150, 200, 250]}\n",
        "rf = RandomForestClassifier(max_depth=3, random_state=0)\n",
        "rfk = GridSearchCV(rf, parametros, cv=ps)\n",
        "\n",
        "scaled_concat = np.concatenate((scaled_entrenamiento,scaled_validacion))\n",
        "conjuntos_concat= pd.concat([entrenamiento,validacion])\n",
        "conjuntos_concat= conjuntos_concat.reset_index(drop= True)\n",
        "\n",
        "tiempo_rfk_inicio = time.time()\n",
        "rfk.fit( scaled_concat , conjuntos_concat.iloc[:,8])#entrenamiento\n",
        "\n",
        "tiempo_rfk_final = time.time()\n",
        "\n",
        "print(rfk.best_params_)\n",
        "y_pred_rfk= rfk.predict(scaled_concat)\n",
        "print(f\"Tiempo de entrenamiento: {tiempo_rfk_final - tiempo_rfk_inicio} [s]\")\n",
        "\n",
        "######################\n",
        "#Parte e\n",
        "matriz_confusion_rfk = sklearn.metrics.confusion_matrix(conjuntos_concat.iloc[:,8], y_pred_rfk, normalize='true')\n",
        "print(f'accuracy = {(matriz_confusion_rfk[0][0]+matriz_confusion_rfk[1][1])/2}')\n",
        "\n",
        "plt.figure()\n",
        "sns.heatmap(matriz_confusion_rfk, annot= True)\n",
        "plt.title('Matriz de confusión Random Forest preliminar')\n",
        "plt.show()"
      ],
      "execution_count": 46,
      "outputs": [
        {
          "output_type": "stream",
          "text": [
            "{'n_estimators': 200}\n",
            "Tiempo de entrenamiento: 1.2915973663330078 [s]\n",
            "accuracy = 0.7676744186046511\n"
          ],
          "name": "stdout"
        },
        {
          "output_type": "display_data",
          "data": {
            "image/png": "[encoded data removed]",
            "text/plain": [
              "<Figure size 432x288 with 2 Axes>"
            ]
          },
          "metadata": {
            "tags": [],
            "needs_background": "light"
          }
        }
      ]
    },
    {
      "cell_type": "code",
      "metadata": {
        "colab": {
          "base_uri": "https://localhost:8080/",
          "height": 333
        },
        "id": "6KW3fQlq8pYy",
        "outputId": "622f1f8c-4a73-422e-8018-763e754ace4d"
      },
      "source": [
        "#Parte l\n",
        "from sklearn.feature_selection import SelectFromModel\n",
        "seleccionl = SelectFromModel(estimator=RandomForestClassifier(max_depth=3, random_state=0,n_estimators=200)).fit(scaled_entrenamiento, entrenamiento.iloc[:,8])\n",
        "\n",
        "\n",
        "caract= ['preg','plas','pres','skin','insu','mass','pedi','age']\n",
        "seleccionl.get_support()\n",
        "Ll=[]\n",
        "vall = []\n",
        "for i in range(len(caract)):\n",
        "    if seleccion.get_support()[i] == True:\n",
        "        Ll.append(caract[i])\n",
        "        vall.append(seleccion.estimator_.coef_[0][i])\n",
        "    else: None \n",
        "print(f\"Las mejores características son: {Ll}\") #index 1 y 5\n",
        "\n",
        "####################################\n",
        "#Parte g\n",
        "car1l= scaled_entrenamiento[:,1]\n",
        "car2l= scaled_entrenamiento[:,5]\n",
        "carsl= np.array([car1l,car2l])\n",
        "tiempo_rfl_inicio = time.time()\n",
        "rfl = RandomForestClassifier(max_depth=3, random_state=0,n_estimators=200).fit(cars.transpose(), entrenamiento.iloc[:,8])\n",
        "tiempo_rfl_final = time.time()\n",
        "print(f\"El tiempo de entrenamiento es {tiempo_rfl_final - tiempo_rfl_inicio} [s]\")\n",
        "\n",
        "#####################################\n",
        "#Parte h\n",
        "carv1l= scaled_validacion[:,1]\n",
        "carv2l= scaled_validacion[:,5]\n",
        "carsvl= np.array([carv1l,carv2l])\n",
        "y_pred_rfl = rfl.predict(carsvl.transpose()) #se concatenan las filas traspuestas para que sean columnas\n",
        "matriz_confusion_rfl = sklearn.metrics.confusion_matrix(validacion.iloc[:,8], y_pred_rfl, normalize='true')\n",
        "print(f'accuracy = {(matriz_confusion_rfl[0][0]+matriz_confusion_rfl[1][1])/2}')\n",
        "\n",
        "plt.figure()\n",
        "sns.heatmap(matriz_confusion_rfl, annot= True)\n",
        "plt.title('Matriz de confusión Random Forest selección de características wrapper')\n",
        "plt.show()"
      ],
      "execution_count": 52,
      "outputs": [
        {
          "output_type": "stream",
          "text": [
            "Las mejores características son: ['plas', 'mass']\n",
            "El tiempo de entrenamiento es 0.2616539001464844 [s]\n",
            "accuracy = 0.7167661421595225\n"
          ],
          "name": "stdout"
        },
        {
          "output_type": "display_data",
          "data": {
            "image/png": "[encoded data removed]",
            "text/plain": [
              "<Figure size 432x288 with 2 Axes>"
            ]
          },
          "metadata": {
            "tags": [],
            "needs_background": "light"
          }
        }
      ]
    },
    {
      "cell_type": "code",
      "metadata": {
        "colab": {
          "base_uri": "https://localhost:8080/",
          "height": 403
        },
        "id": "0WAZtlB9ilg1",
        "outputId": "db766961-b09f-4a93-d9fe-b07a30c51006"
      },
      "source": [
        "#Parte m\n",
        "from sklearn.feature_selection import SelectKBest\n",
        "seleccionm = SelectKBest(k=4).fit_transform(scaled_entrenamiento, entrenamiento.iloc[:,8])\n",
        "caract= ['preg','plas','pres','skin','insu','mass','pedi','age']\n",
        "L=[]\n",
        "for i in range(len(caract)): ##No pude obtnerlo mediante get_param asi que se improviso con una revision por fuerza bruta\n",
        "    if scaled_entrenamiento[0][i] in seleccionm[0] :\n",
        "        L.append(caract[i])\n",
        "        print(i)\n",
        "    else: None \n",
        "print(f\"Las mejores 4 características son: {L}\")\n",
        "###############################################\n",
        "#g\n",
        "car1m= scaled_entrenamiento[:,0]\n",
        "car2m= scaled_entrenamiento[:,1]\n",
        "car3m= scaled_entrenamiento[:,5]\n",
        "car4m= scaled_entrenamiento[:,7]\n",
        "carsm= np.array([car1m,car2m,car3m,car4m])\n",
        "tiempo_rfm_inicio = time.time()\n",
        "rfm = RandomForestClassifier(max_depth=3, random_state=0,n_estimators=200).fit(carsm.transpose(), entrenamiento.iloc[:,8])\n",
        "tiempo_rfm_final = time.time()\n",
        "print(f\"El tiempo de entrenamiento es {tiempo_rfm_final - tiempo_rfm_inicio} [s]\")\n",
        "######################################\n",
        "#h\n",
        "carv1m= scaled_validacion[:,0]\n",
        "carv2m= scaled_validacion[:,1]\n",
        "carv3m= scaled_validacion[:,5]\n",
        "carv4m= scaled_validacion[:,7]\n",
        "carsvm= np.array([carv1m,carv2m,carv3m,carv4m])\n",
        "y_pred_rfm = rfm.predict(carsvm.transpose()) #se concatenan las filas traspuestas para que sean columnas\n",
        "matriz_confusion_rfm = sklearn.metrics.confusion_matrix(validacion.iloc[:,8], y_pred_rfm, normalize='true')\n",
        "print(f'accuracy = {(matriz_confusion_rfm[0][0]+matriz_confusion_rfm[1][1])/2}')\n",
        "\n",
        "plt.figure()\n",
        "sns.heatmap(matriz_confusion_rfm, annot= True)\n",
        "plt.title('Matriz de confusión Random Forest selección de 4 mejores características por filtro')\n",
        "plt.show()"
      ],
      "execution_count": 53,
      "outputs": [
        {
          "output_type": "stream",
          "text": [
            "0\n",
            "1\n",
            "5\n",
            "7\n",
            "Las mejores 4 características son: ['preg', 'plas', 'mass', 'age']\n",
            "El tiempo de entrenamiento es 0.26888418197631836 [s]\n",
            "accuracy = 0.739464640983903\n"
          ],
          "name": "stdout"
        },
        {
          "output_type": "display_data",
          "data": {
            "image/png": "[encoded data removed]",
            "text/plain": [
              "<Figure size 432x288 with 2 Axes>"
            ]
          },
          "metadata": {
            "tags": [],
            "needs_background": "light"
          }
        }
      ]
    },
    {
      "cell_type": "code",
      "metadata": {
        "colab": {
          "base_uri": "https://localhost:8080/",
          "height": 333
        },
        "id": "2zXKRxD0rJf8",
        "outputId": "86f01035-2c5d-4eb3-c501-62c9b135b722"
      },
      "source": [
        "#Parte n\n",
        "\n",
        "from sklearn.feature_selection import SelectKBest\n",
        "seleccionn = SelectKBest(k=2).fit_transform(scaled_entrenamiento, entrenamiento.iloc[:,8])\n",
        "caract= ['preg','plas','pres','skin','insu','mass','pedi','age']\n",
        "L=[]\n",
        "for i in range(len(caract)): ##No pude obtnerlo mediante get_param asi que se improviso con una revision por fuerza bruta\n",
        "    if scaled_entrenamiento[0][i] in seleccionn[0] :\n",
        "        L.append(caract[i])\n",
        "    else: None \n",
        "print(f\"Las mejores 2 características son: {L}\")\n",
        "\n",
        "\n",
        "###############################################\n",
        "#g\n",
        "car1n= scaled_entrenamiento[:,1]\n",
        "car2n= scaled_entrenamiento[:,5]\n",
        "carsn= np.array([car1n,car2n])\n",
        "tiempo_rfn_inicio = time.time()\n",
        "rfn = RandomForestClassifier(max_depth=3, random_state=0,n_estimators=200).fit(carsn.transpose(), entrenamiento.iloc[:,8])\n",
        "tiempo_rfn_final = time.time()\n",
        "print(f\"El tiempo de entrenamiento es {tiempo_rfn_final - tiempo_rfn_inicio} [s]\")\n",
        "######################################\n",
        "#h\n",
        "carv1n= scaled_validacion[:,1]\n",
        "carv2n= scaled_validacion[:,5]\n",
        "carsvn= np.array([carv1n,carv2n])\n",
        "y_pred_rfn = rfn.predict(carsvn.transpose()) #se concatenan las filas traspuestas para que sean columnas\n",
        "matriz_confusion_rfn = sklearn.metrics.confusion_matrix(validacion.iloc[:,8], y_pred_rfn, normalize='true')\n",
        "print(f'accuracy = {(matriz_confusion_rfn[0][0]+matriz_confusion_rfn[1][1])/2}')\n",
        "\n",
        "plt.figure()\n",
        "sns.heatmap(matriz_confusion_rfn, annot= True)\n",
        "plt.title('Matriz de confusión Random Forest, selección de 2 características por filtro')\n",
        "plt.show()\n"
      ],
      "execution_count": 54,
      "outputs": [
        {
          "output_type": "stream",
          "text": [
            "Las mejores 2 características son: ['plas', 'mass']\n",
            "El tiempo de entrenamiento es 0.2608647346496582 [s]\n",
            "accuracy = 0.7167661421595225\n"
          ],
          "name": "stdout"
        },
        {
          "output_type": "display_data",
          "data": {
            "image/png": "[encoded data removed]",
            "text/plain": [
              "<Figure size 432x288 with 2 Axes>"
            ]
          },
          "metadata": {
            "tags": [],
            "needs_background": "light"
          }
        }
      ]
    },
    {
      "cell_type": "code",
      "metadata": {
        "colab": {
          "base_uri": "https://localhost:8080/",
          "height": 580
        },
        "id": "f9NLuTHnxE37",
        "outputId": "c7616a7f-8555-4df9-c109-4f423ae1bf9b"
      },
      "source": [
        "#Parte o\n",
        "cart1= scaled_test[:,0]\n",
        "cart2= scaled_test[:,1]\n",
        "cart3= scaled_test[:,5]\n",
        "cart4= scaled_test[:,7]\n",
        "carst= np.array([cart1,cart2,cart3,cart4])\n",
        "\n",
        "y_pred_svmlo = svmli.predict(carst.transpose()) #se concatenan las filas traspuestas para que sean columnas\n",
        "y_pred_rfo = rfm.predict(carst.transpose())\n",
        "\n",
        "matriz_confusion_svmlo = sklearn.metrics.confusion_matrix(test.iloc[:,8], y_pred_svmlo, normalize='true')\n",
        "matriz_confusion_rfo = sklearn.metrics.confusion_matrix(test.iloc[:,8], y_pred_rfo, normalize='true')\n",
        "\n",
        "\n",
        "print(f'accuracy svm lineal = {(matriz_confusion_svmlo[0][0]+matriz_confusion_svmlo[1][1])/2}')\n",
        "print(f'accuracy random forest = {(matriz_confusion_rfo[0][0]+matriz_confusion_rfo[1][1])/2}')\n",
        "\n",
        "plt.figure()\n",
        "sns.heatmap(matriz_confusion_svmlo, annot= True)\n",
        "plt.title('Matriz de confusión SVM(lineal) a test selección de 4 mejores características por filtro')\n",
        "plt.figure()\n",
        "sns.heatmap(matriz_confusion_rfo, annot= True)\n",
        "plt.title('Matriz de confusión Random Forest a test selección de 4 mejores características por filtro')\n",
        "plt.show()"
      ],
      "execution_count": 55,
      "outputs": [
        {
          "output_type": "stream",
          "text": [
            "accuracy svm lineal = 0.7430819316332067\n",
            "accuracy random forest = 0.739464640983903\n"
          ],
          "name": "stdout"
        },
        {
          "output_type": "display_data",
          "data": {
            "image/png": "[encoded data removed]",
            "text/plain": [
              "<Figure size 432x288 with 2 Axes>"
            ]
          },
          "metadata": {
            "tags": [],
            "needs_background": "light"
          }
        },
        {
          "output_type": "display_data",
          "data": {
            "image/png": "[encoded data removed]",
            "text/plain": [
              "<Figure size 432x288 with 2 Axes>"
            ]
          },
          "metadata": {
            "tags": [],
            "needs_background": "light"
          }
        }
      ]
    }
  ]
}